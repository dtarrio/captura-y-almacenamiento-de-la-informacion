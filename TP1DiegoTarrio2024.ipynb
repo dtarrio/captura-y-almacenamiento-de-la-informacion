{
  "nbformat": 4,
  "nbformat_minor": 0,
  "metadata": {
    "colab": {
      "provenance": [],
      "authorship_tag": "ABX9TyMosqdYFZiWcU/ol7kfhVLK",
      "include_colab_link": true
    },
    "kernelspec": {
      "name": "python3",
      "display_name": "Python 3"
    },
    "language_info": {
      "name": "python"
    }
  },
  "cells": [
    {
      "cell_type": "markdown",
      "metadata": {
        "id": "view-in-github",
        "colab_type": "text"
      },
      "source": [
        "<a href=\"https://colab.research.google.com/github/dtarrio/captura-y-almacenamiento-de-la-informacion/blob/main/TP1DiegoTarrio2024.ipynb\" target=\"_parent\"><img src=\"https://colab.research.google.com/assets/colab-badge.svg\" alt=\"Open In Colab\"/></a>"
      ]
    },
    {
      "cell_type": "code",
      "execution_count": 1,
      "metadata": {
        "id": "T5OJDS7tLQ0J"
      },
      "outputs": [],
      "source": [
        "# Importar los módulos necesarios\n",
        "from urllib.request import Request, urlopen, build_opener, install_opener, ProxyHandler\n",
        "import ssl\n",
        "import json\n",
        "import xml.etree.ElementTree as ET\n",
        "\n",
        "# Para evitar errores de certificados inexistentes en algunas páginas web\n",
        "ssl._create_default_https_context = ssl._create_unverified_context\n"
      ]
    },
    {
      "cell_type": "code",
      "source": [
        "#Especialización en Inteligencia de Datos orientado a BigData\n",
        "#Materia: Catura y almacenamiento de la información\n",
        "#año: 2024\n",
        "#Alumno: Diego Fernando Tarrío (DNI: 22151919)\n",
        "#Trabajo Práctico 1\n",
        "#se extrae información de las guitarras marca Soloking que se encuentran publicadas en el sitio de\n",
        "# ------  www.kaironmusic.com.ar ---------\n",
        "#se extrae del HTML el listado de modelos de guitarra junto con el precio y se guardan en un archivo guitarras.json\n",
        "\n",
        "# Se crea la petición\n",
        "request = Request(\n",
        "    url='https://www.kaironmusic.com.ar/search/?q=soloking&mpage=2',\n",
        "    headers={'User-Agent': 'Mozilla/5.0'}\n",
        ")\n",
        "\n",
        "# Se realiza la descarga y se guarda el contenido HTML en una variable\n",
        "page = urlopen(request)\n",
        "content = page.read().decode(\"utf-8\")\n",
        "\n",
        "#analizado el html, se detectó que los modelos junto con la info de precios se guarda en\n",
        "tag = \"\\\"item_id\\\"\"\n",
        "tagFin = \"\\\"item_list_id\\\"\"\n",
        "\n",
        "guitarras = []\n",
        "\n",
        "content2 = content\n",
        "start = content2.find(tag)\n",
        "while start > 0:\n",
        "  start = start + len(tag)\n",
        "  content2 = content2[start:]\n",
        "  end = content2.find(tagFin)\n",
        "\n",
        "  data = content2[0: end]\n",
        "\n",
        "  # Limpieza para quedarme sólo con el nombre y modelo de la guitarra marca Soloking\n",
        "  start2 = data.find(\"Soloking\")\n",
        "  end2 = data.find(\"\\\"item_variant\\\"\") - 2\n",
        "  dataModelo = data[start2:end2].strip()\n",
        "\n",
        "  # Limpieza para quedarme sólo con el precio de la guitarra\n",
        "  start3 = data.find(\"\\\"price\\\":\") + 8\n",
        "  end3 = data.find(\"\\\"item_category2\\\"\") - 1\n",
        "  dataPrecio = data[start3:end3].strip()\n",
        "\n",
        "  # Cambio el formato del precio para que sea más legible\n",
        "  precioNumerico = float(dataPrecio)\n",
        "  dataPrecio = \"{:,.2f}\".format(precioNumerico)\n",
        "\n",
        "  #genero un diccionario con tuplas {Model,Price} por cada modelo encontrado\n",
        "  guitarras.append({\"Model\":dataModelo,\"Price\": dataPrecio})\n",
        "\n",
        "  start = content2.find(tag)\n",
        "\n",
        "print(guitarras)\n",
        "\n",
        "#guardo la lista de nombres y modelos de guitarras en un archivo con formato JSon\n",
        "with open(\"guitarras.json\",\"w\") as file:\n",
        "  json.dump(guitarras,file,indent=4)\n",
        "\n",
        "#genero y guardo la misma información pero ahora en formato XML\n",
        "root = ET.Element(\"Guitarras\")\n",
        "for guitarra in guitarras:\n",
        "  model = ET.SubElement(root, \"Model\")\n",
        "  model.text = guitarra[\"Model\"]\n",
        "  price = ET.SubElement(root, \"Price\")\n",
        "  price.text = guitarra[\"Price\"]\n",
        "\n",
        "#creo el arbol XML y se guarda en archivo\n",
        "tree = ET.ElementTree(root)\n",
        "with open(\"guitarras.xml\", \"wb\") as file:\n",
        "  tree.write(file, encoding=\"utf-8\", xml_declaration=True)"
      ],
      "metadata": {
        "id": "ze5aSRq2fbGV",
        "colab": {
          "base_uri": "https://localhost:8080/"
        },
        "outputId": "04b7d7e8-75ad-47b9-a24b-c51bb5cd5dc2"
      },
      "execution_count": 3,
      "outputs": [
        {
          "output_type": "stream",
          "name": "stdout",
          "text": [
            "[]\n"
          ]
        }
      ]
    }
  ]
}