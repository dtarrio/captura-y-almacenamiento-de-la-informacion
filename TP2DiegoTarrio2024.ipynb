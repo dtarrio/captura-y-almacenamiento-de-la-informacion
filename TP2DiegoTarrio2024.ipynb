{
  "nbformat": 4,
  "nbformat_minor": 0,
  "metadata": {
    "colab": {
      "provenance": [],
      "include_colab_link": true
    },
    "kernelspec": {
      "name": "python3",
      "display_name": "Python 3"
    },
    "language_info": {
      "name": "python"
    }
  },
  "cells": [
    {
      "cell_type": "markdown",
      "metadata": {
        "id": "view-in-github",
        "colab_type": "text"
      },
      "source": [
        "<a href=\"https://colab.research.google.com/github/dtarrio/captura-y-almacenamiento-de-la-informacion/blob/main/TP2DiegoTarrio2024.ipynb\" target=\"_parent\"><img src=\"https://colab.research.google.com/assets/colab-badge.svg\" alt=\"Open In Colab\"/></a>"
      ]
    },
    {
      "cell_type": "markdown",
      "source": [
        "# Captura y Almacenamiento de la Información 2024\n",
        "## Trabajo práctico 2 (Trabajando con información en JSon y MongoDB)\n",
        "\n",
        "**Alumno:**\n",
        "\n",
        "**Diego Fernando Tarrío**\n",
        "\n",
        "*Licenciado en Informática U.N.L.P.*\n",
        "\n",
        "\n",
        "\n",
        "\n",
        "---\n",
        "\n",
        "\n",
        "### Información de los archivos json\n",
        "\n",
        "**Ventas_ultima_campana.json:** Contiene array con 4 atributos:\n",
        "*  id_vendedora: numeric\n",
        "*  id_coordinadora: numeric\n",
        "*  cantidad: numeric\n",
        "*  monto: float\n",
        "\n",
        "e.g. de elemento del array:\n",
        "\n",
        "```\n",
        "#  {\n",
        "    \"id_vendedora\": 8173,\n",
        "    \"id_coordinadora\": 138,\n",
        "    \"cantidad\": 8,\n",
        "    \"monto\": 299.843826657088\n",
        "  }\n",
        "```\n",
        "\n",
        "---\n",
        "\n",
        "**puntaje_acumulado.json:** Contiene array con 2 atributos:\n",
        "*  id_vendedora: numeric\n",
        "*  puntaje_acumulado: numeric\n",
        "\n",
        "e.g. de elemento del array:\n",
        "\n",
        "```\n",
        "# {\n",
        "    \"id_vendedora\": 18462,\n",
        "    \"puntaje_acumulado\": 1051\n",
        "  }\n",
        "```\n",
        "\n",
        "\n",
        "\n",
        "\n"
      ],
      "metadata": {
        "id": "Sh-jKgQP63uL"
      }
    },
    {
      "cell_type": "markdown",
      "source": [
        "# Preparación ambiente"
      ],
      "metadata": {
        "id": "-qUphP4t_f4v"
      }
    },
    {
      "cell_type": "code",
      "execution_count": null,
      "metadata": {
        "id": "LMbeiH7B_Rjg",
        "collapsed": true
      },
      "outputs": [],
      "source": [
        "# Instalación de MongoDB\n",
        "!apt update\n",
        "!apt install wget curl gnupg2 software-properties-common apt-transport-https ca-certificates lsb-release\n",
        "!curl -fsSL https://www.mongodb.org/static/pgp/server-6.0.asc|sudo gpg --dearmor -o /etc/apt/trusted.gpg.d/mongodb-6.gpg\n",
        "!echo \"deb [ arch=amd64,arm64 ] https://repo.mongodb.org/apt/ubuntu $(lsb_release -cs)/mongodb-org/6.0 multiverse\" | tee /etc/apt/sources.list.d/mongodb-org-6.0.list\n",
        "!apt update\n",
        "!apt install mongodb-org\n",
        "!mkdir /data\n",
        "!mkdir /data/db\n",
        "!mongod --fork --logpath /var/log/mongodb/mongod.log\n",
        "\n",
        "!pip install pymongo"
      ]
    },
    {
      "cell_type": "code",
      "source": [
        "import json\n",
        "import re\n",
        "import pymongo\n",
        "from pymongo import MongoClient\n",
        "\n",
        "## Check DB server status\n",
        "!mongod --version\n",
        "\n",
        "print (\"MongoDB is running. Version:\", pymongo.version)"
      ],
      "metadata": {
        "id": "3Saje9jz_wQp",
        "collapsed": true
      },
      "execution_count": null,
      "outputs": []
    },
    {
      "cell_type": "code",
      "source": [
        "# Creo una conexión con el servidor usando la url de conexión default.\n",
        "url_server = 'localhost:27017'\n",
        "client = MongoClient(url_server)\n",
        "\n",
        "# Creamos la base de datos vendotutti\n",
        "db = client.vendotutti\n",
        "\n",
        "# Listo todas las bases de datos que existen en el servidor MongoDB (sólo para chequear)\n",
        "print(client.list_database_names())"
      ],
      "metadata": {
        "id": "wsmg3fa1ZjVP",
        "collapsed": true
      },
      "execution_count": null,
      "outputs": []
    },
    {
      "cell_type": "markdown",
      "source": [
        "# Creación de la base de datos\n",
        "## Lee ambos archivos json y los carga en respectivas colecciones dentro de la BD"
      ],
      "metadata": {
        "id": "v0Wnih9bZ9Ev"
      }
    },
    {
      "cell_type": "code",
      "source": [
        "# Leo el archivo json para puntaje_acumulado\n",
        "\n",
        "db.puntaje_acumulado.delete_many({}) #limpio la collection puntaje_acumulado por posibles ejecuciones previas\n",
        "\n",
        "json_filename = \"puntaje_acumulado.json\"\n",
        "\n",
        "json_file = open(json_filename, \"r\")\n",
        "\n",
        "puntaje_acumulado = json.load(json_file)\n",
        "\n",
        "# Recorro json de puntaje_acumulado\n",
        "\n",
        "for puntaje in puntaje_acumulado:\n",
        "    punt = {\n",
        "      \"id_vendedora\" : puntaje[\"id_vendedora\"],\n",
        "      \"puntaje_acumulado\" : puntaje[\"puntaje_acumulado\"]\n",
        "    }\n",
        "    db.puntaje_acumulado.insert_one(punt)\n",
        "\n",
        "# como alternativa al for previo podría utilizar la opción insert_many de pymongo:\n",
        "# db.puntaje_acumulado.insert_many(puntaje_acumulado)\n",
        "# igual lo dejo con el for por si fuese necesario ajustar algún atributo manualmente previo a su inserción en la colección,\n",
        "# adicionalmente evito manejar lotes en el caso que el volumen exceda el límite de tamaño para insertar"
      ],
      "metadata": {
        "id": "IGoGHzmy_kDD"
      },
      "execution_count": 8,
      "outputs": []
    },
    {
      "cell_type": "code",
      "source": [
        "# Leo el archivo json para ventas_ultima_campana\n",
        "\n",
        "db.ventas_ultima_campana.delete_many({}) #limpio la collection ventas_ultima_campana por posibles ejecuciones previas\n",
        "\n",
        "json_filename = \"ventas_ultima_campana.json\"\n",
        "\n",
        "json_file = open(json_filename, \"r\")\n",
        "\n",
        "ventas_ultima_campana = json.load(json_file)\n",
        "\n",
        "# Recorro json de puntaje_acumulado\n",
        "\n",
        "for venta in ventas_ultima_campana:\n",
        "    vent = {\n",
        "      \"id_vendedora\" : venta[\"id_vendedora\"],\n",
        "      \"id_coordinadora\" : venta[\"id_coordinadora\"],\n",
        "      \"cantidad\" : venta[\"cantidad\"],\n",
        "      \"monto\" : venta[\"monto\"]\n",
        "    }\n",
        "    db.ventas_ultima_campana.insert_one(vent)\n",
        "\n",
        "# como alternativa al for previo podría utilizar la opción insert_many de pymongo:\n",
        "# db.ventas_ultima_campana.insert_many(ventas_ultima_campana)\n",
        "# igual lo dejo con el for por si fuese necesario ajustar algún atributo manualmente previo a su inserción en la colección,\n",
        "# adicionalmente evito manejar lotes en el caso que el volumen exceda el límite de tamaño para insertar"
      ],
      "metadata": {
        "collapsed": true,
        "id": "70UtNladKbl4"
      },
      "execution_count": 9,
      "outputs": []
    },
    {
      "cell_type": "code",
      "source": [
        "#chequeo básico de las colections en la db\n",
        "print(\"Cantidad de documentos en puntaje_acumulado: \",db.puntaje_acumulado.count_documents({}))\n",
        "print(\"Cantidad de documentos en ventas_ultima_campana: \",db.ventas_ultima_campana.count_documents({}))"
      ],
      "metadata": {
        "colab": {
          "base_uri": "https://localhost:8080/"
        },
        "id": "I3CQeeDV2yOS",
        "outputId": "8e198aab-70b4-4412-d276-03ea3800e986"
      },
      "execution_count": 17,
      "outputs": [
        {
          "output_type": "stream",
          "name": "stdout",
          "text": [
            "Cantidad de documentos en puntaje_acumulado:  16853\n",
            "Cantidad de documentos en ventas_ultima_campana:  119970\n"
          ]
        }
      ]
    },
    {
      "cell_type": "markdown",
      "source": [
        "# Actualización de la base de datos con el cálculo del sueldo de cada vendedora\n",
        "\n",
        "criterio:\n",
        "sueldov = 1000 x puntos_acumuladosv x bonus_personalv x bonus_coordinadora\n",
        "\n"
      ],
      "metadata": {
        "id": "91GlegypZ2PX"
      }
    },
    {
      "cell_type": "markdown",
      "source": [
        "#OPCIÓN 1: Mayor trabajo en código python trayendo las colecciones a memoria y trabajando fuera de MongoDB (luego se implementa misma solución pero priorizando el trabajo directo en MongoDB mediante agregaciones en OPCIÓN 2):"
      ],
      "metadata": {
        "id": "80SxV7watpfy"
      }
    },
    {
      "cell_type": "code",
      "source": [
        "from collections import defaultdict\n",
        "\n",
        "# Obtengo puntajes acumulados\n",
        "puntajes_acumulados = db.puntaje_acumulado.find({}) #traigo toda la collection de puntaje_acumulado desde la bd\n",
        "\n",
        "# Obtengo ventas de la última campaña\n",
        "ventas_ultima_campana = db.ventas_ultima_campana.find({}) #traigo toda la collection de ventas_ultima_campana desde la bd\n",
        "\n",
        "# Calculo el total de productos vendidos y el dinero recaudado por cada vendedora\n",
        "ventas_por_vendedora = defaultdict(lambda: {'total_productos': 0, 'total_dinero': 0, 'id_coordinadora': None})\n",
        "\n",
        "for venta in ventas_ultima_campana:\n",
        "    id_vendedora = venta['id_vendedora']\n",
        "    ventas_por_vendedora[id_vendedora]['total_productos'] += venta['cantidad']\n",
        "    ventas_por_vendedora[id_vendedora]['total_dinero'] += venta['monto']\n",
        "    ventas_por_vendedora[id_vendedora]['id_coordinadora'] = venta['id_coordinadora']\n",
        "\n",
        "# Calculo bonus personal según la cantidad de productos vendidos\n",
        "def calcular_bonus_personal(total_productos):\n",
        "    if total_productos > 500:\n",
        "        return 2\n",
        "    elif total_productos > 250:\n",
        "        return 1.6\n",
        "    elif total_productos > 50:\n",
        "        return 1.3\n",
        "    elif total_productos > 10:\n",
        "        return 1.1\n",
        "    elif total_productos > 0:\n",
        "        return 1.02\n",
        "    else:\n",
        "        return 1\n",
        "\n",
        "# Calculo el total de dinero recaudado por cada coordinadora\n",
        "dinero_por_coordinadora = defaultdict(float)\n",
        "for id_vendedora, datos in ventas_por_vendedora.items():\n",
        "    dinero_por_coordinadora[datos['id_coordinadora']] += datos['total_dinero'] #acumulo el total de la vendedora para la posición del diccionario que corresponde a la coordinadora asociada\n",
        "\n",
        "# Ordeno coordinadoras por la cantidad de dinero recaudado\n",
        "coordinadoras_ordenadas = sorted(dinero_por_coordinadora.items(), key=lambda x: x[1], reverse=True)\n",
        "\n",
        "# Asigno bonus por coordinadora según la posición\n",
        "bonus_coordinadora = {}\n",
        "for idx, (id_coordinadora, _) in enumerate(coordinadoras_ordenadas):\n",
        "    if idx == 0:\n",
        "        bonus_coordinadora[id_coordinadora] = 1.35\n",
        "    elif idx == 1:\n",
        "        bonus_coordinadora[id_coordinadora] = 1.3\n",
        "    elif idx == 2:\n",
        "        bonus_coordinadora[id_coordinadora] = 1.25\n",
        "    elif idx == 3:\n",
        "        bonus_coordinadora[id_coordinadora] = 1.2\n",
        "    elif idx == 4:\n",
        "        bonus_coordinadora[id_coordinadora] = 1.15\n",
        "    else:\n",
        "        bonus_coordinadora[id_coordinadora] = 1.1\n",
        "\n",
        "# Calculo el sueldo de cada vendedora\n",
        "sueldos = {}\n",
        "for puntaje in puntajes_acumulados:\n",
        "    id_vendedora = puntaje['id_vendedora']\n",
        "    puntaje_acumulado = puntaje['puntaje_acumulado']\n",
        "    total_productos = ventas_por_vendedora[id_vendedora]['total_productos']\n",
        "    id_coordinadora = ventas_por_vendedora[id_vendedora]['id_coordinadora']\n",
        "\n",
        "    bonus_personal = calcular_bonus_personal(total_productos)\n",
        "    bonus_coordinadora_vendedora = bonus_coordinadora.get(id_coordinadora, 1)\n",
        "\n",
        "    sueldo = 1000 * puntaje_acumulado * bonus_personal * bonus_coordinadora_vendedora\n",
        "    sueldos[id_vendedora] = sueldo\n",
        "\n",
        "# Muestro los sueldos calculados\n",
        "for id_vendedora, sueldo in sueldos.items():\n",
        "    print(f\"Vendedora {id_vendedora}: Sueldo = ${sueldo:.2f}\")\n",
        "\n",
        "# Guardo los sueldos de cada vendedora en otra colección en la BD:\n",
        "db.sueldos_clientSide.delete_many({})\n",
        "db.sueldos_clientSide.insert_many([{'id_vendedora': id_vendedora, 'sueldo': sueldo} for id_vendedora, sueldo in sueldos.items()])"
      ],
      "metadata": {
        "id": "cl1qwGO0qcGe"
      },
      "execution_count": null,
      "outputs": []
    },
    {
      "cell_type": "markdown",
      "source": [
        "# Opción 2: Llevando la mayor parte de la lógica a scripts sobre MongoDB (Este enfoque aprovecha las capacidades de agregación de la BD, reduciendo la carga en el lado del cliente):"
      ],
      "metadata": {
        "id": "rtkNfdTMDAm0"
      }
    },
    {
      "cell_type": "code",
      "source": [
        "\n",
        "#Calculo el bonus personal y lo persisto en una colección en la db:\n",
        "\n",
        "# Limpio la colection bonus_personal antes de realizar cualquier cálculo (para blanquear cualquier ejecución previa)\n",
        "db.bonus_personal.delete_many({})\n",
        "\n",
        "db.bonus_personal.insert_many(list(db.ventas_ultima_campana.aggregate([\n",
        "    {\n",
        "        \"$group\": {\n",
        "            \"_id\": \"$id_vendedora\",\n",
        "            \"total_productos\": {\"$sum\": \"$cantidad\"},\n",
        "            \"id_coordinadora\": {\"$first\": \"$id_coordinadora\"}\n",
        "        }\n",
        "    },\n",
        "    {\n",
        "        \"$addFields\": {\n",
        "            \"bonus_personal\": {\n",
        "                \"$switch\": {\n",
        "                    \"branches\": [\n",
        "                        {\"case\": {\"$gt\": [\"$total_productos\", 500]}, \"then\": 2},\n",
        "                        {\"case\": {\"$gt\": [\"$total_productos\", 250]}, \"then\": 1.6},\n",
        "                        {\"case\": {\"$gt\": [\"$total_productos\", 50]}, \"then\": 1.3},\n",
        "                        {\"case\": {\"$gt\": [\"$total_productos\", 10]}, \"then\": 1.1},\n",
        "                        {\"case\": {\"$gt\": [\"$total_productos\", 0]}, \"then\": 1.02}\n",
        "                    ],\n",
        "                    \"default\": 1\n",
        "                }\n",
        "            }\n",
        "        }\n",
        "    }\n",
        "])\n",
        "))\n",
        "\n",
        "#chequeo básico de la nueva collection bonus_personal en la db:\n",
        "print(\"Cantidad de documentos en bonus_personal: \",db.bonus_personal.count_documents({}))\n",
        "\n",
        "# Limpio la colection bonus_coordinadora antes de realizar cualquier cálculo (para blanquear cualquier ejecución previa)\n",
        "db.bonus_coordinadora.delete_many({})\n",
        "\n",
        "#Calculo el bonus de coordinadora y lo persisto en una colección en la bd:\n",
        "db.bonus_coordinadora.insert_many(list( db.ventas_ultima_campana.aggregate([\n",
        "    {\n",
        "        \"$group\": {\n",
        "            \"_id\": \"$id_coordinadora\",\n",
        "            \"total_dinero\": {\"$sum\": \"$monto\"}\n",
        "        }\n",
        "    },\n",
        "    {\n",
        "        \"$sort\": {\"total_dinero\": -1}  # Ordenar de mayor a menor recaudación\n",
        "    },\n",
        "    {\n",
        "        \"$setWindowFields\": {\n",
        "            \"sortBy\": {\"total_dinero\": -1}, #Si bien ya se ordenó por mismo criterio en stage previo, la función nueva de MongoDB (setWindowFields)\n",
        "                                            #requiere que se aplique el orden explícitamente (aunque ya estuviera aplicado en la colección)\n",
        "\n",
        "            \"output\": {\n",
        "                \"ranking\": {\"$rank\": {}}  # Asigno un ranking basado en la recaudación\n",
        "            }\n",
        "        }\n",
        "    },\n",
        "    {\n",
        "        \"$addFields\": {\n",
        "            \"bonus_coordinadora\": {\n",
        "                \"$switch\": {\n",
        "                    \"branches\": [\n",
        "                        {\"case\": {\"$eq\": [\"$ranking\", 1]}, \"then\": 1.35},\n",
        "                        {\"case\": {\"$eq\": [\"$ranking\", 2]}, \"then\": 1.3},\n",
        "                        {\"case\": {\"$eq\": [\"$ranking\", 3]}, \"then\": 1.25},\n",
        "                        {\"case\": {\"$eq\": [\"$ranking\", 4]}, \"then\": 1.2},\n",
        "                        {\"case\": {\"$eq\": [\"$ranking\", 5]}, \"then\": 1.15}\n",
        "                    ],\n",
        "                    \"default\": 1.1\n",
        "                }\n",
        "            }\n",
        "        }\n",
        "    }\n",
        "])\n",
        "))\n",
        "\n",
        "#chequeo básico de la nueva collection bonus_coordinadora\n",
        "print(\"Cantidad de documentos en bonus_coordinadora: \",db.bonus_coordinadora.count_documents({}))\n",
        "\n",
        "#Agregación en MongoDB para calcular el sueldo:\n",
        "sueldos = db.puntaje_acumulado.aggregate([\n",
        "    {\n",
        "        \"$lookup\": {\n",
        "            \"from\": \"bonus_personal\",\n",
        "            \"localField\": \"id_vendedora\",\n",
        "            \"foreignField\": \"_id\",\n",
        "            \"as\": \"bonus_personal_info\"\n",
        "        }\n",
        "    },\n",
        "    {\n",
        "        \"$unwind\": \"$bonus_personal_info\" #descompongo el array en documentos individuales para facilitar acceso en siguientes stages\n",
        "    },\n",
        "    {\n",
        "        \"$lookup\": {\n",
        "            \"from\": \"bonus_coordinadora\",\n",
        "            \"localField\": \"bonus_personal_info.id_coordinadora\",\n",
        "            \"foreignField\": \"_id\",\n",
        "            \"as\": \"bonus_coordinadora_info\"\n",
        "        }\n",
        "    },\n",
        "    {\n",
        "        \"$unwind\": \"$bonus_coordinadora_info\" #descompongo el array en documentos individuales para facilitar acceso en siguientes stages\n",
        "    },\n",
        "    {\n",
        "        \"$addFields\": {\n",
        "            \"sueldo\": {\n",
        "                \"$multiply\": [\n",
        "                    1000,\n",
        "                    \"$puntaje_acumulado\",\n",
        "                    \"$bonus_personal_info.bonus_personal\",\n",
        "                    \"$bonus_coordinadora_info.bonus_coordinadora\"\n",
        "                ]\n",
        "            }\n",
        "        }\n",
        "    },\n",
        "    {\n",
        "        \"$project\": {\n",
        "            \"_id\": 0,\n",
        "            \"id_vendedora\": 1,\n",
        "            \"sueldo\": 1\n",
        "        }\n",
        "    }\n",
        "])\n",
        "\n",
        "\n",
        "\n",
        "# Guardo sueldos en una colección de MongoDB\n",
        "db.sueldos_via_db.delete_many({})\n",
        "db.sueldos_via_db.insert_many(sueldos)\n",
        "\n",
        "#chequeo básico de la nueva collection sueldos_via_db\n",
        "print(\"Cantidad de documentos en sueldos_via_db: \",db.sueldos_via_db.count_documents({}))\n",
        "\n",
        "#imprimo los resultados de la collection sueldos_via_db\n",
        "for sueldo in db.sueldos_via_db.find():\n",
        "    print(sueldo)"
      ],
      "metadata": {
        "id": "eLGx9ReQEC9A"
      },
      "execution_count": null,
      "outputs": []
    },
    {
      "cell_type": "code",
      "source": [
        "# Realizo la agregación de los resultados de ambas opciones (sueldos_clientSide y sueldos_via_db) para unir ambas colecciones en función de id_vendedora\n",
        "# de esta manera comparo resultados entre ambas soluciones:\n",
        "resultados = db.sueldos_clientSide.aggregate([\n",
        "    {\n",
        "        \"$lookup\": {\n",
        "            \"from\": \"sueldos_via_db\",\n",
        "            \"localField\": \"id_vendedora\",\n",
        "            \"foreignField\": \"id_vendedora\",\n",
        "            \"as\": \"resultados_comparados\"  # El resultado de la unión se almacenará aquí\n",
        "        }\n",
        "    },\n",
        "    {\n",
        "        \"$unwind\": \"$resultados_comparados\"  # Desenrolla el array resultante de la unión\n",
        "    },\n",
        "    {\n",
        "        \"$limit\": 20  # Limita el número de documentos a 20 ya que alcanza para validar que los cálculos se realizaron similares\n",
        "    }\n",
        "])\n",
        "\n",
        "# Itero sobre los resultados para imprimir los datos comparados\n",
        "for resultado in resultados:\n",
        "    print(f\"Vendedora ID: {resultado['id_vendedora']}\")\n",
        "    print(f\"Sueldo calculado vía opción 1: {resultado}\")\n",
        "    print(f\"Sueldo calculado vía opción 2: {resultado['resultados_comparados']}\")\n",
        "    print(\"-\" * 50)\n"
      ],
      "metadata": {
        "id": "6ZRfF_CcGREu"
      },
      "execution_count": null,
      "outputs": []
    }
  ]
}